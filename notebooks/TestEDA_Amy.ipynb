{
 "cells": [
  {
   "cell_type": "markdown",
   "id": "971c2d52",
   "metadata": {},
   "source": [
    "# 📊 Test Exploratory Data Analysis — Social Media Sentiment Insights\n",
    "\n",
    "**Objective:**  \n",
    "Understand the dataset structure, detect missing values, explore distributions and early patterns to guide future modeling or insights presentation.\n",
    "\n",
    "---"
   ]
  },
  {
   "cell_type": "code",
   "execution_count": null,
   "id": "6d3c6894",
   "metadata": {},
   "outputs": [],
   "source": [
    "import pandas as pd\n",
    "import numpy as np\n",
    "import matplotlib.pyplot as plt\n",
    "import seaborn as sns\n",
    "\n",
    "# Visual settings\n",
    "pd.set_option(\"display.max_colwidth\", 120)\n",
    "plt.style.use(\"default\")\n",
    "\n",
    "print(\"✅ Libraries loaded correctly.\")"
   ]
  },
  {
   "cell_type": "markdown",
   "id": "83ba95c8",
   "metadata": {},
   "source": [
    "## 📥 1. Load Dataset & Initial Overview\n",
    "\n",
    "We'll load the dataset and quickly explore its structure to understand the number of rows, columns, and get a glimpse of the data."
   ]
  },
  {
   "cell_type": "code",
   "execution_count": null,
   "id": "7a41d207",
   "metadata": {},
   "outputs": [],
   "source": [
    "# Load dataset\n",
    "df = pd.read_csv(\"../data/sentimentdataset.csv\")\n",
    "print(\"✅ Dataset loaded. Shape:\", df.shape)\n",
    "\n",
    "# Quick peek\n",
    "df.head(30)"
   ]
  },
  {
   "cell_type": "code",
   "execution_count": null,
   "id": "8d69005c",
   "metadata": {},
   "outputs": [],
   "source": [
    "df.info()"
   ]
  },
  {
   "cell_type": "code",
   "execution_count": null,
   "id": "f401d169",
   "metadata": {},
   "outputs": [],
   "source": [
    "df.describe()"
   ]
  },
  {
   "cell_type": "code",
   "execution_count": null,
   "id": "e4c739a0",
   "metadata": {},
   "outputs": [],
   "source": [
    "df.isnull().sum()"
   ]
  },
  {
   "cell_type": "code",
   "execution_count": null,
   "id": "3dddcfe7",
   "metadata": {},
   "outputs": [],
   "source": [
    "df.nunique()"
   ]
  },
  {
   "cell_type": "code",
   "execution_count": null,
   "id": "ec864b1c",
   "metadata": {},
   "outputs": [],
   "source": [
    "df.sort_values(by=\"Likes\", ascending=False).head(10)"
   ]
  },
  {
   "cell_type": "code",
   "execution_count": null,
   "id": "37fe4bcc",
   "metadata": {},
   "outputs": [],
   "source": [
    "df.sort_values(by=\"Retweets\", ascending=False).head(10)"
   ]
  },
  {
   "cell_type": "code",
   "execution_count": null,
   "id": "a3a6f8b9",
   "metadata": {},
   "outputs": [],
   "source": [
    "# pd.set_option('display.float_format', lambda x: '%.2f' % x)\n",
    "df_corr = df.corr(numeric_only=True).round(2)\n",
    "df_corr.style.format(\"{:.2f}\").background_gradient(cmap=\"coolwarm\")\n",
    "# df.corr(numeric_only=True)"
   ]
  },
  {
   "cell_type": "markdown",
   "id": "d0c5e040",
   "metadata": {},
   "source": [
    "Unnamed data should be removed\n",
    "Total correlation between likes and retweets"
   ]
  },
  {
   "cell_type": "code",
   "execution_count": null,
   "id": "f7690240",
   "metadata": {},
   "outputs": [],
   "source": [
    "df_corr = df.corr(numeric_only=True).round(2)\n",
    "df_corr.style.format(\"{:.2f}\").background_gradient(cmap=\"magma\")"
   ]
  },
  {
   "cell_type": "markdown",
   "id": "1fd56e23",
   "metadata": {},
   "source": [
    "When applying a background gradient, especially in data visualization libraries like Pandas or Matplotlib, the cmap argument (colormap) specifies the color scheme to be used. While coolwarm provides a diverging colormap ranging from cool blues to warm reds, many other options exist, each with a distinct aesthetic and purpose.\n",
    "Here are some categories of colormaps and examples of other colors you could use:\n",
    "1. Sequential Colormaps: These colormaps are designed to show a progression of values, typically from low to high, using a single hue or a gradual change in lightness/saturation.\n",
    "Examples: viridis, plasma, inferno, magma, gray, Blues, Greens, Reds, Purples, Oranges.\n",
    "2. Diverging Colormaps: Similar to coolwarm, these colormaps emphasize a central neutral value and diverge to two distinct colors at the extremes, suitable for showing deviations from a mean or a zero point.\n",
    "Examples: seismic, RdBu, PiYG, PRGn, BrBG, bwr.\n",
    "3. Qualitative Colormaps: These colormaps are designed to distinguish between discrete categories or groups, using distinct and easily differentiable colors.\n",
    "Examples: tab10, tab20, Paired, Set1, Set2, Dark2.\n",
    "4. Cyclic Colormaps: These colormaps are useful for data that wraps around a central point, like angles or phases, where the start and end colors are the same or very similar.\n",
    "Examples: twilight, hsv.\n",
    "To choose the best colormap, consider:\n",
    "Data Type: Is your data sequential, diverging, or categorical?\n",
    "Clarity: Does the colormap effectively convey the information without causing misinterpretations?\n",
    "Accessibility: Is the colormap colorblind-friendly? (e.g., viridis is often recommended for this).\n",
    "Aesthetics: Does the colormap align with the overall design and purpose of your visualization?"
   ]
  },
  {
   "cell_type": "code",
   "execution_count": null,
   "id": "ff36ac42",
   "metadata": {},
   "outputs": [],
   "source": [
    "df['text_len'] = df['Text'].str.len()\n",
    "df['word_count'] = df['Text'].str.split().str.len()\n",
    "df['hashtag_count'] = df['Hashtags'].str.count('#')\n",
    "df['emoji_count'] = df['Text'].str.count(r'[^\\w\\s,]')  # emojis/símbolos\n",
    "\n",
    "df[['text_len', 'word_count', 'hashtag_count', 'emoji_count', 'Likes', 'Retweets']].corr()"
   ]
  },
  {
   "cell_type": "code",
   "execution_count": null,
   "id": "1ea3538e",
   "metadata": {},
   "outputs": [],
   "source": [
    "sns.heatmap(df.corr(numeric_only=True), annot = True)\n",
    "\n",
    "plt.rcParams['figure.figsize'] = (20,7)\n",
    "\n",
    "plt.show()"
   ]
  },
  {
   "cell_type": "code",
   "execution_count": null,
   "id": "d7e85ba7",
   "metadata": {},
   "outputs": [],
   "source": [
    "df_groupby = df.groupby('Platform')[['Likes', 'Retweets']].mean().sort_values(by='Likes', ascending=False)\n",
    "df_groupby.style.format(\"{:.1f}\")"
   ]
  },
  {
   "cell_type": "code",
   "execution_count": null,
   "id": "3937a921",
   "metadata": {},
   "outputs": [],
   "source": [
    "df['Country'].value_counts()\n"
   ]
  },
  {
   "cell_type": "markdown",
   "id": "9a45fcc1",
   "metadata": {},
   "source": [
    "Strings might have empty values and that messes up de 'country' data"
   ]
  },
  {
   "cell_type": "code",
   "execution_count": null,
   "id": "a7c3ae44",
   "metadata": {},
   "outputs": [],
   "source": [
    "df['Country'].value_counts(normalize=True) * 100"
   ]
  },
  {
   "cell_type": "code",
   "execution_count": null,
   "id": "9c056c82",
   "metadata": {},
   "outputs": [],
   "source": [
    "df.groupby('Country')[['Likes', 'Retweets', 'emoji_count', 'word_count']].mean().sort_values(by='Likes', ascending=False)"
   ]
  },
  {
   "cell_type": "code",
   "execution_count": null,
   "id": "3d6c1b7b",
   "metadata": {},
   "outputs": [],
   "source": [
    "df_groupby = df.groupby('Sentiment')[['Likes', 'Retweets']].mean().sort_values(by='Retweets', ascending=False)\n",
    "df_groupby.style.format(\"{:.1f}\")"
   ]
  },
  {
   "cell_type": "code",
   "execution_count": null,
   "id": "9dc4c8a9",
   "metadata": {},
   "outputs": [],
   "source": [
    "import pandas as pd\n",
    "import numpy as np\n",
    "import matplotlib.pyplot as plt\n",
    "import seaborn as sns"
   ]
  },
  {
   "cell_type": "code",
   "execution_count": null,
   "id": "04045f8f",
   "metadata": {},
   "outputs": [],
   "source": [
    "# --- CLEANUP ---\n",
    "# Clean the 'Platform' column to avoid duplicates like 'Twitter ' vs 'twitter'\n",
    "df[\"Platform\"] = df[\"Platform\"].astype(str).str.strip().str.title()\n"
   ]
  },
  {
   "cell_type": "code",
   "execution_count": null,
   "id": "7504c704",
   "metadata": {},
   "outputs": [],
   "source": [
    "\n",
    "df = pd.read_csv(\"sentimentdataset.csv\")\n",
    "print(df.head())\n",
    "print(df.shape)\n",
    "\n",
    "df.drop(columns='Unnamed: 0.1', inplace=True)\n",
    "df.rename(columns={'Unnamed: 0':'Id'}, inplace=True)\n",
    "df.isnull().sum()\n",
    "df.dtypes\n",
    "\n",
    "df[\"Platform\"] = df[\"Platform\"].astype(str).str.strip().str.title()\n",
    "top10_sentiments = df[\"Sentiment\"].value_counts().head(10).index\n",
    "df_platform = df[df[\"Sentiment\"].isin(top10_sentiments)].copy()\n",
    "\n",
    "print(\"Platforms in dataset:\", df_platform[\"Platform\"].unique())\n"
   ]
  },
  {
   "cell_type": "code",
   "execution_count": null,
   "id": "0df68568",
   "metadata": {},
   "outputs": [],
   "source": [
    "# --- 1) Count of sentiments per platform ---\n",
    "'''platform_counts = (\n",
    "    df_platform.groupby([\"Platform\", \"Sentiment\"])\n",
    "    .size()\n",
    "    .unstack(fill_value=0)\n",
    ")\n",
    "platform_percent = platform_counts.div(platform_counts.sum(axis=1), axis=0) * 100\n",
    "plt.figure(figsize=(10,6))\n",
    "bottom_val = np.zeros(len(platform_percent))\n",
    "\n",
    "for sentiment in platform_percent.columns:\n",
    "    plt.bar(platform_percent.index, platform_percent[sentiment],\n",
    "            bottom=bottom_val, label=sentiment)\n",
    "    bottom_val += platform_percent[sentiment]\n",
    "\n",
    "plt.title(\"Sentiment Distribution Across Platforms (Top 10 Sentiments)\")\n",
    "plt.xlabel(\"Platform\")\n",
    "plt.ylabel(\"Percentage of Posts (%)\")\n",
    "plt.legend(title=\"Sentiment\", fontsize=7, ncol=2)\n",
    "plt.tight_layout()\n",
    "plt.show()'''\n",
    "\n",
    "'''as expected, positive, joy, excitment are leading sentiments across platforms.\n",
    "nothing really stands out here'''\n"
   ]
  },
  {
   "cell_type": "code",
   "execution_count": null,
   "id": "46ec64fc",
   "metadata": {},
   "outputs": [],
   "source": [
    "\n",
    "# --- 2) Temporal trend per platform ---\n",
    "# Extract month for grouping\n",
    "'''df_platform[\"Month\"] = pd.to_datetime(df_platform[\"Timestamp\"], errors=\"coerce\").dt.month\n",
    "\n",
    "# Loop through each platform and plot separate area charts\n",
    "for platform in df_platform[\"Platform\"].unique():\n",
    "    sub = df_platform[df_platform[\"Platform\"] == platform]\n",
    "    monthly = sub.groupby([\"Month\",\"Sentiment\"]).size().reset_index(name=\"Count\")\n",
    "    pivot_month = monthly.pivot_table(index=\"Month\", columns=\"Sentiment\", values=\"Count\", fill_value=0)\n",
    "\n",
    "    plt.figure(figsize=(9,5))\n",
    "    pivot_month.plot(kind=\"area\", alpha=0.8, figsize=(9,5))\n",
    "    plt.title(f\"Monthly Sentiment Trends on {platform} (Top 10 Sentiments)\")\n",
    "    plt.xlabel(\"Month\")\n",
    "    plt.ylabel(\"Post Count\")\n",
    "    plt.legend(title=\"Sentiment\", fontsize=7, ncol=2)\n",
    "    plt.tight_layout()\n",
    "    plt.show()'''\n",
    "\n",
    "''' monthly sentiments (twitter)\n",
    "summer months is when theres a lot of excitment, joy type of hashtags being used. beginning of the year is more\n",
    "positive sentiment and then near september to october, we see a rise in sad sentiments.'''\n",
    "\n",
    "'''monthly sentiments (instagram)\n",
    "similar trends as twitter with overwhelming joy and excitement during summers\n",
    "and beginning of the year but instagram has a lot more hopeful sentiments in the summer + neutral in the fall'''\n",
    "\n",
    "'''monthly sentiments (facebook)\n",
    "joy sentiment spans across the year with the peak in summer months. \n",
    "'''\n",
    "\n",
    "###using consistent color scheme for sentiments across platforms"
   ]
  },
  {
   "cell_type": "code",
   "execution_count": null,
   "id": "7b541baf",
   "metadata": {},
   "outputs": [],
   "source": [
    "### --- 3) sentiment distribution by country TOP 10 ---\n",
    "'''country_sentiment = (\n",
    "    df_geo.groupby([\"Country\", \"Sentiment\"])\n",
    "    .size()\n",
    "    .unstack(fill_value=0)\n",
    ")\n",
    "\n",
    "country_sentiment.plot(kind=\"bar\", stacked=True, figsize=(10,6))\n",
    "plt.title(\"Sentiment Distribution by Country (Top 10)\")\n",
    "plt.xlabel(\"Country\")\n",
    "plt.ylabel(\"Number of Posts\")\n",
    "plt.legend(title=\"Sentiment\", fontsize=7, ncol=2)\n",
    "plt.tight_layout()\n",
    "plt.show()'''\n",
    "\n",
    "'''\n",
    "Top three countries, positive sentiment distribution is the highest across all three \n",
    "countries, with words such as positive, joy, and excitement taking the lead\n",
    "'''"
   ]
  },
  {
   "cell_type": "code",
   "execution_count": null,
   "id": "9a369188",
   "metadata": {},
   "outputs": [],
   "source": [
    "\n",
    "# --- 3) platform usage by country TOP 10 ---\n",
    "'''import pandas as pd\n",
    "import numpy as np\n",
    "import matplotlib.pyplot as plt\n",
    "import seaborn as sns\n",
    "\n",
    "# Clean up text columns\n",
    "df[\"Country\"] = df[\"Country\"].astype(str).str.strip().str.title()\n",
    "df[\"Platform\"] = df[\"Platform\"].astype(str).str.strip().str.title()\n",
    "\n",
    "# Focus on top 10 countries (most posts)\n",
    "top_countries = df[\"Country\"].value_counts().head(10).index\n",
    "df_country_platform = df[df[\"Country\"].isin(top_countries)].copy()\n",
    "\n",
    "heat_data = (\n",
    "    df_country_platform.groupby([\"Country\", \"Platform\"])\n",
    "    .size()\n",
    "    .unstack(fill_value=0)\n",
    ")\n",
    "\n",
    "plt.figure(figsize=(10,6))\n",
    "sns.heatmap(heat_data, cmap=\"YlGnBu\", annot=True, fmt=\"d\")\n",
    "plt.title(\"Heatmap of Platform Usage by Country (Top 10)\")\n",
    "plt.xlabel(\"Platform\")\n",
    "plt.ylabel(\"Country\")\n",
    "plt.tight_layout()\n",
    "plt.show()'''\n",
    "\n",
    "''' Instagram is the number one platform used across the top three countries and majority of the other Top 10s\n",
    "However, India has Twitter as the most used platform'''\n",
    "\n",
    "\n"
   ]
  },
  {
   "cell_type": "code",
   "execution_count": null,
   "id": "41869bdb",
   "metadata": {},
   "outputs": [],
   "source": [
    "\n",
    "# --- 5) ENGAGEMENT VS SENTIMENT ---\n",
    "'''sentiments = df_top[\"Sentiment\"].value_counts().index.tolist()\n",
    "data_for_box = [df_top[df_top[\"Sentiment\"]==s][\"Engagement\"].values for s in sentiments]\n",
    "\n",
    "plt.figure(figsize=(12,6))\n",
    "plt.boxplot(data_for_box, labels=sentiments, showfliers=False)\n",
    "plt.title(\"Engagement (Likes + Retweets) by Sentiment (Top 50)\")\n",
    "plt.xlabel(\"Sentiment\")\n",
    "plt.ylabel(\"Engagement\")\n",
    "plt.xticks(rotation=90)\n",
    "plt.tight_layout()\n",
    "plt.show()'''"
   ]
  }
 ],
 "metadata": {
  "kernelspec": {
   "display_name": ".venv",
   "language": "python",
   "name": "python3"
  },
  "language_info": {
   "codemirror_mode": {
    "name": "ipython",
    "version": 3
   },
   "file_extension": ".py",
   "mimetype": "text/x-python",
   "name": "python",
   "nbconvert_exporter": "python",
   "pygments_lexer": "ipython3",
   "version": "3.13.7"
  }
 },
 "nbformat": 4,
 "nbformat_minor": 5
}
